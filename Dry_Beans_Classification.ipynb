{
  "cells": [
    {
      "cell_type": "markdown",
      "metadata": {
        "id": "view-in-github",
        "colab_type": "text"
      },
      "source": [
        "<a href=\"https://colab.research.google.com/github/lauren-safwat/Dry-Beans-Classification/blob/main/Dry_Beans_Classification.ipynb\" target=\"_parent\"><img src=\"https://colab.research.google.com/assets/colab-badge.svg\" alt=\"Open In Colab\"/></a>"
      ]
    },
    {
      "cell_type": "markdown",
      "metadata": {
        "id": "kygpZHciXjNf"
      },
      "source": [
        "# **Dry Beans Classification**\n",
        "- Seed quality is definitely influential in crop production. Therefore, seed classification is essential for both marketing and production to provide the principles of sustainable agricultural systems.\n",
        "\n",
        "- In this notbook we try different algorithms to classify the most well-known 7 types of beans in Turkey; Barbunya, Bombay, Cali, Dermason, Horoz, Seker and Sira, depending ONLY on dimension and shape features of bean varieties with no external discriminatory features."
      ]
    },
    {
      "cell_type": "markdown",
      "metadata": {
        "id": "JuKA23qXXjNm"
      },
      "source": [
        "#### **Required Packages**"
      ]
    },
    {
      "cell_type": "code",
      "execution_count": 19,
      "metadata": {
        "id": "E3VDuR3BXjNn"
      },
      "outputs": [],
      "source": [
        "import pandas as pd\n",
        "import numpy as np\n",
        "import matplotlib.pyplot as plt\n",
        "import seaborn as sns\n",
        "\n",
        "from sklearn.model_selection import train_test_split\n",
        "from sklearn.preprocessing import LabelEncoder\n",
        "from sklearn.preprocessing import QuantileTransformer, RobustScaler\n",
        "\n",
        "from sklearn.metrics import f1_score, accuracy_score, confusion_matrix , classification_report\n",
        "from sklearn.model_selection import GridSearchCV\n",
        "\n",
        "from sklearn.pipeline import Pipeline\n",
        "\n",
        "import warnings\n",
        "warnings.filterwarnings('ignore')\n",
        "\n",
        "sns.set_style(\"darkgrid\")"
      ]
    },
    {
      "cell_type": "markdown",
      "metadata": {
        "id": "JMBWcCAFXjNr"
      },
      "source": [
        "#### **Data fields**\n",
        "- **ID**: An ID for this instance\n",
        "- **Area (A)**: The area of a bean zone and the number of pixels within its boundaries.\n",
        "- **Perimeter (P)**: Bean circumference is defined as the length of its border.\n",
        "- **MajorAxisLength (L)**: The distance between the ends of the longest line that can be drawn from a bean.\n",
        "- **MinorAxisLength (l)**: The longest line that can be drawn from the bean while standing perpendicular to the main axis.\n",
        "- **AspectRatio (K)**: Defines the relationship between L and l.\n",
        "- **Eccentricity (Ec)**: Eccentricity of the ellipse having the same moments as the region.\n",
        "- **ConvexArea (C)**: Number of pixels in the smallest convex polygon that can contain the area of a bean seed.\n",
        "- **EquivDiameter (Ed)**: The diameter of a circle having the same area as a bean seed area.\n",
        "- **Extent (Ex)**: The ratio of the pixels in the bounding box to the bean area.\n",
        "- **Solidity (S)**: Also known as convexity. The ratio of the pixels in the convex shell to those found in beans.\n",
        "- **Roundness (R)**: Calculated with the following formula: (4 pi A)/(P^2)\n",
        "- **Compactness (CO)**: Measures the roundness of an object: Ed/L\n",
        "- **ShapeFactor1 (SF1)**: L/d\n",
        "- **ShapeFactor2 (SF2)**: l/d\n",
        "- **ShapeFactor3 (SF3)**: 4A/(L^2 * pi)\n",
        "- **ShapeFactor4 (SF4)**: 4A/(L l pi)\n",
        "- **y**: The class of the bean. It can be any of BARBUNYA, SIRA, HOROZ, DERMASON, CALI, BOMBAY, and SEKER."
      ]
    },
    {
      "cell_type": "markdown",
      "metadata": {
        "id": "CUvg4kAiXjNs"
      },
      "source": [
        "#### **Read Data**"
      ]
    },
    {
      "cell_type": "code",
      "execution_count": 22,
      "metadata": {
        "id": "SM-h-fWPXjNt"
      },
      "outputs": [],
      "source": [
        "train_data = pd.read_csv(\"https://raw.githubusercontent.com/lauren-safwat/Dry-Beans-Classification/main/dataset/train_data.csv?token=GHSAT0AAAAAABT3JWLRWOMWID4DPRQNFPUAYUCZ3OA\", index_col='ID')\n",
        "test_data = pd.read_csv(\"https://raw.githubusercontent.com/lauren-safwat/Dry-Beans-Classification/main/dataset/test_data.csv?token=GHSAT0AAAAAABT3JWLQA2EUIIMGDBIYN2OUYUCZ25Q\", index_col='ID')"
      ]
    },
    {
      "cell_type": "code",
      "execution_count": null,
      "metadata": {
        "id": "3deo3bI9XjNu"
      },
      "outputs": [],
      "source": [
        "train_data.head(5)"
      ]
    },
    {
      "cell_type": "markdown",
      "metadata": {
        "id": "_3TQDoMUXjNw"
      },
      "source": [
        "### **EDA**"
      ]
    },
    {
      "cell_type": "markdown",
      "metadata": {
        "id": "Vh22XcR7XjNw"
      },
      "source": [
        "#### 1. Data shape and columns"
      ]
    },
    {
      "cell_type": "code",
      "execution_count": null,
      "metadata": {
        "id": "VmpKM8LoXjNx"
      },
      "outputs": [],
      "source": [
        "print(\"Data Shape: \", train_data.shape)"
      ]
    },
    {
      "cell_type": "code",
      "execution_count": null,
      "metadata": {
        "id": "IXOnAf_4XjNy"
      },
      "outputs": [],
      "source": [
        "print(\"Data Columns: \", list(train_data.columns))"
      ]
    },
    {
      "cell_type": "markdown",
      "metadata": {
        "id": "zBIkFL6bXjNz"
      },
      "source": [
        "#### 2. Data Summary and Information"
      ]
    },
    {
      "cell_type": "code",
      "execution_count": null,
      "metadata": {
        "id": "kBYyHsj5XjNz"
      },
      "outputs": [],
      "source": [
        "train_data.describe().T"
      ]
    },
    {
      "cell_type": "code",
      "execution_count": null,
      "metadata": {
        "id": "DuypGL-YXjN0"
      },
      "outputs": [],
      "source": [
        "train_data.info()"
      ]
    },
    {
      "cell_type": "markdown",
      "metadata": {
        "id": "F7n3_vycXjN0"
      },
      "source": [
        "#### 3. Split data into features and labels"
      ]
    },
    {
      "cell_type": "code",
      "execution_count": 28,
      "metadata": {
        "id": "pevQAkrxXjN1"
      },
      "outputs": [],
      "source": [
        "y = train_data[['y']]\n",
        "X = train_data.drop('y', axis=1)"
      ]
    },
    {
      "cell_type": "markdown",
      "metadata": {
        "id": "IUeHoC5xXjN1"
      },
      "source": [
        "#### 4. Data Visualization"
      ]
    },
    {
      "cell_type": "markdown",
      "metadata": {
        "id": "97gTMKnxXjN1"
      },
      "source": [
        "* ##### Distribution of target column"
      ]
    },
    {
      "cell_type": "code",
      "execution_count": null,
      "metadata": {
        "id": "ks3UR_VcXjN2"
      },
      "outputs": [],
      "source": [
        "plt.figure(figsize=(10, 7))\n",
        "plt.title('Distribution of Dry Beans Types')\n",
        "ax = sns.countplot(x=y.y, order=y.y.value_counts(ascending=False).index)\n",
        "\n",
        "for p in ax.patches:\n",
        "    x_ = p.get_bbox().get_points()[:,0]\n",
        "    y_ = p.get_bbox().get_points()[1,1]\n",
        "    ax.annotate(p.get_height(), (x_.mean(), y_), ha='center', va='bottom')\n",
        "\n",
        "plt.show()"
      ]
    },
    {
      "cell_type": "markdown",
      "source": [
        "* ##### Boxplot of numerical features for each type of bean"
      ],
      "metadata": {
        "id": "K4e218ucpaoS"
      }
    },
    {
      "cell_type": "code",
      "execution_count": null,
      "metadata": {
        "id": "6raKyh_gXjN3"
      },
      "outputs": [],
      "source": [
        "fig, ax = plt.subplots(4, 2, figsize=(25, 30))\n",
        "\n",
        "for variable, subplot in zip(X.columns, ax.flatten()):\n",
        "    sns.boxplot(x=y.y, y=X[variable], ax=subplot)\n",
        "plt.tight_layout()"
      ]
    },
    {
      "cell_type": "markdown",
      "source": [
        "* ##### Outliers Identification"
      ],
      "metadata": {
        "id": "WYi1dGdTYe1u"
      }
    },
    {
      "cell_type": "code",
      "source": [
        "Q1 = X.quantile(0.25)\n",
        "Q3 = X.quantile(0.75)\n",
        "IQR = Q3 - Q1\n",
        "LB = Q1 - 1.5 * IQR\n",
        "UB = Q3 + 1.5 * IQR\n",
        "nOutliers = X[(X < LB) | (X > UB)].count()\n",
        "nOutliers"
      ],
      "metadata": {
        "id": "OknvN_5UZLM8"
      },
      "execution_count": null,
      "outputs": []
    },
    {
      "cell_type": "code",
      "execution_count": null,
      "metadata": {
        "id": "j8IFQLwdXjN4"
      },
      "outputs": [],
      "source": [
        "f, axs = plt.subplots(figsize=(20, 20))\n",
        "plt.subplots_adjust(left=0.1, bottom=0.1, right=0.9, top=0.9, wspace=0.4, hspace=0.4)\n",
        "\n",
        "for i, column in enumerate(X.columns, 1):\n",
        "  plt.subplot(6, 3, i)\n",
        "  sns.boxplot(X[column])"
      ]
    },
    {
      "cell_type": "markdown",
      "source": [
        "* ##### Skewness Identification"
      ],
      "metadata": {
        "id": "EugKQw-SYlm-"
      }
    },
    {
      "cell_type": "code",
      "execution_count": null,
      "metadata": {
        "id": "Xtp02R56XjN2"
      },
      "outputs": [],
      "source": [
        "f, axs = plt.subplots(figsize=(30, 30))\n",
        "plt.subplots_adjust(left=0.1, bottom=0.1, right=0.9, top=0.9, wspace=0.2, hspace=0.4)\n",
        "\n",
        "for i, column in enumerate(X.columns, 1):\n",
        "    _ = plt.subplot(6, 3, i)\n",
        "    _ = sns.distplot(X[column], color=\"b\", label=\"Skewness : %.1f\"%(X[column].skew()))\n",
        "    plt.legend(loc=\"best\")\n",
        "plt.show()"
      ]
    },
    {
      "cell_type": "markdown",
      "source": [
        "* ##### Pearson linear correlation between features"
      ],
      "metadata": {
        "id": "BS1MAjUlgSA-"
      }
    },
    {
      "cell_type": "code",
      "source": [
        "plt.figure(figsize=(12, 12))\n",
        "sns.heatmap(X.corr(\"pearson\"), vmin=-1, vmax=1, annot=True, square=True)\n",
        "plt.show()"
      ],
      "metadata": {
        "id": "Tw_zESJRgcEl"
      },
      "execution_count": null,
      "outputs": []
    },
    {
      "cell_type": "markdown",
      "metadata": {
        "id": "u80dJJkCXjN4"
      },
      "source": [
        "### **Data Preprocessing**"
      ]
    },
    {
      "cell_type": "markdown",
      "source": [
        "#### 1. Feature Scaling"
      ],
      "metadata": {
        "id": "tPfMGmrDa1m5"
      }
    },
    {
      "cell_type": "code",
      "execution_count": 15,
      "metadata": {
        "id": "UsETSSR1XjN5"
      },
      "outputs": [],
      "source": [
        "#scaler = QuantileTransformer(output_distribution='normal', random_state=0)\n",
        "#df = scaler.fit_transform(X)\n",
        "#X = pd.DataFrame(df, columns = X.columns, index = X.index)"
      ]
    },
    {
      "cell_type": "code",
      "source": [
        "# Q1 = X.quantile(0.25)\n",
        "# Q3 = X.quantile(0.75)\n",
        "# IQR = Q3 - Q1\n",
        "# LB = Q1 - 1.5 * IQR\n",
        "# UB = Q3 + 1.5 * IQR\n",
        "# nOutliers = X[(X < LB) | (X > UB)].count()\n",
        "# nOutliers"
      ],
      "metadata": {
        "id": "rZRhLjuPrMIZ"
      },
      "execution_count": null,
      "outputs": []
    },
    {
      "cell_type": "code",
      "execution_count": null,
      "metadata": {
        "id": "SIv0JlmzXjN6"
      },
      "outputs": [],
      "source": [
        "# f, axs = plt.subplots(figsize=(20, 20))\n",
        "# plt.subplots_adjust(left=0.1, bottom=0.1, right=0.9, top=0.9, wspace=0.4, hspace=0.4)\n",
        "\n",
        "# for i, column in enumerate(X.columns, 1):\n",
        "#     plt.subplot(6, 3, i)\n",
        "#     sns.boxplot(X[column])"
      ]
    },
    {
      "cell_type": "code",
      "source": [
        "# f, axs = plt.subplots(figsize=(30, 30))\n",
        "# plt.subplots_adjust(left=0.1, bottom=0.1, right=0.9, top=0.9, wspace=0.2, hspace=0.4)\n",
        "\n",
        "# for i, column in enumerate(X.columns, 1):\n",
        "#     _ = plt.subplot(6, 3, i)\n",
        "#     _ = sns.distplot(X[column], color=\"b\", label=\"Skewness : %.1f\"%(X[column].skew()))\n",
        "#     plt.legend(loc=\"best\")\n",
        "# plt.show()"
      ],
      "metadata": {
        "id": "Ua5AzLI9bCS5"
      },
      "execution_count": null,
      "outputs": []
    },
    {
      "cell_type": "markdown",
      "source": [
        "#### 2. Encoding target column"
      ],
      "metadata": {
        "id": "f90uM92OhHYM"
      }
    },
    {
      "cell_type": "code",
      "source": [
        "label_encoder = LabelEncoder()\n",
        "y.y = label_encoder.fit_transform(y.y)\n",
        "y"
      ],
      "metadata": {
        "id": "P3Z8a8WNhYVl"
      },
      "execution_count": null,
      "outputs": []
    },
    {
      "cell_type": "code",
      "source": [
        "y.head(20)"
      ],
      "metadata": {
        "id": "hHe7reDXXEFs"
      },
      "execution_count": null,
      "outputs": []
    },
    {
      "cell_type": "markdown",
      "metadata": {
        "id": "tnAFK3SPXjN7"
      },
      "source": [
        "#### 3. Splitting data into train and validation sets"
      ]
    },
    {
      "cell_type": "code",
      "execution_count": 38,
      "metadata": {
        "id": "yl0iTuUmXjN7"
      },
      "outputs": [],
      "source": [
        "X_train, X_validation, y_train, y_validation = train_test_split(X, y, test_size=0.1, random_state=16, stratify=y)"
      ]
    },
    {
      "cell_type": "markdown",
      "source": [
        "## **Classification Models**"
      ],
      "metadata": {
        "id": "U6s9n8ngtURr"
      }
    },
    {
      "cell_type": "markdown",
      "source": [
        "### 1. Logistic Regression"
      ],
      "metadata": {
        "id": "cmO3HXeptfYr"
      }
    },
    {
      "cell_type": "code",
      "source": [
        "from sklearn.linear_model import LogisticRegression\n",
        "\n",
        "lr_model = LogisticRegression()\n",
        "lr_model.fit(X_train, y_train)\n",
        "print(\"Logistic regression score:\", lr_model.score(X_train, y_train))\n",
        "print(\"Logistic regression f1-score:\", f1_score(y_train, lr_model.predict(X_train), average='macro'))"
      ],
      "metadata": {
        "colab": {
          "base_uri": "https://localhost:8080/"
        },
        "id": "1jzBFtdMtTXX",
        "outputId": "36a47658-8fbf-47ff-bd8a-ae1f27cdc828"
      },
      "execution_count": null,
      "outputs": [
        {
          "output_type": "stream",
          "name": "stdout",
          "text": [
            "Logistic regression score: 0.924\n",
            "Logistic regression f1-score: 0.9240622352041111\n"
          ]
        }
      ]
    },
    {
      "cell_type": "code",
      "source": [
        "print(\"Logistic regression score:\", lr_model.score(X_validation, y_validation))\n",
        "print(\"Logistic regression f1-score:\", f1_score(y_validation, lr_model.predict(X_validation), average='macro'))"
      ],
      "metadata": {
        "colab": {
          "base_uri": "https://localhost:8080/"
        },
        "id": "gXjXm3NY2QaW",
        "outputId": "bc6d6d1e-9c29-4b77-f115-065195fb968e"
      },
      "execution_count": null,
      "outputs": [
        {
          "output_type": "stream",
          "name": "stdout",
          "text": [
            "Logistic regression score: 0.9289667896678967\n",
            "Logistic regression f1-score: 0.9372960225879872\n"
          ]
        }
      ]
    },
    {
      "cell_type": "markdown",
      "source": [
        "### 2. Decision Tree"
      ],
      "metadata": {
        "id": "Banzox7Ay8A9"
      }
    },
    {
      "cell_type": "code",
      "source": [
        "from sklearn.tree import DecisionTreeClassifier\n",
        "\n",
        "dt_model = DecisionTreeClassifier()\n",
        "dt_model.fit(X_train, y_train)\n",
        "print(\"Decision Tree score:\", dt_model.score(X_train, y_train))\n",
        "print(\"Decision Tree f1-score:\", f1_score(y_train, dt_model.predict(X_train), average='macro'))"
      ],
      "metadata": {
        "colab": {
          "base_uri": "https://localhost:8080/"
        },
        "id": "4CTznUP9y8xl",
        "outputId": "3c33e15e-b268-42b7-8c55-69d341578a7c"
      },
      "execution_count": null,
      "outputs": [
        {
          "output_type": "stream",
          "name": "stdout",
          "text": [
            "Decision Tree score: 1.0\n",
            "Decision Tree f1-score: 1.0\n"
          ]
        }
      ]
    },
    {
      "cell_type": "code",
      "source": [
        "print(\"Decision Tree score:\", dt_model.score(X_validation, y_validation))\n",
        "print(\"Decision Tree f1-score:\", f1_score(y_validation, dt_model.predict(X_validation), average='macro'))"
      ],
      "metadata": {
        "colab": {
          "base_uri": "https://localhost:8080/"
        },
        "id": "5qjxkJ-12NS6",
        "outputId": "d990b277-47b8-4c49-acd5-ddcf1e3a5052"
      },
      "execution_count": null,
      "outputs": [
        {
          "output_type": "stream",
          "name": "stdout",
          "text": [
            "Decision Tree score: 0.9049815498154982\n",
            "Decision Tree f1-score: 0.9128196079252613\n"
          ]
        }
      ]
    },
    {
      "cell_type": "markdown",
      "source": [
        "### 3. SVM Classifier"
      ],
      "metadata": {
        "id": "DcefpRxOzor1"
      }
    },
    {
      "cell_type": "code",
      "source": [
        "from sklearn.svm import SVC\n",
        "\n",
        "svm_parameters = {'kernel': ['rbf'],\n",
        "                  'C': [0.01, 0.1, 1 , 10, 100],\n",
        "                  'gamma': [0.01, 0.1, 1, 10, 100]\n",
        "}\n",
        "\n",
        "svm_model = SVC()\n",
        "svm_gs = GridSearchCV(estimator = svm_model, param_grid = svm_parameters)\n",
        "svm_gs.fit(X_train, y_train)\n",
        "svm_winner = svm_gs.best_estimator_\n",
        "svm_winner\n",
        "\n",
        "print(\"SVM score:\", svm_winner.score(X_train, y_train))\n",
        "print(\"SVM f1-score:\", f1_score(y_train, svm_winner.predict(X_train), average='macro'))"
      ],
      "metadata": {
        "colab": {
          "base_uri": "https://localhost:8080/"
        },
        "outputId": "2dd26201-a767-4ab0-ea8e-a7f54997a33e",
        "id": "fjIziomWzosB"
      },
      "execution_count": null,
      "outputs": [
        {
          "output_type": "stream",
          "name": "stdout",
          "text": [
            "SVM score: 0.9339487179487179\n",
            "SVM f1-score: 0.9458079749154965\n"
          ]
        }
      ]
    },
    {
      "cell_type": "code",
      "source": [
        "print(\"SVM score:\", svm_winner.score(X_validation, y_validation))\n",
        "print(\"SVM f1-score:\", f1_score(y_validation, svm_winner.predict(X_validation), average='weighted'))"
      ],
      "metadata": {
        "colab": {
          "base_uri": "https://localhost:8080/"
        },
        "id": "R6IOr-Rp2BRm",
        "outputId": "7bc41b8b-7535-4cb7-cd97-3d48f04f0b8f"
      },
      "execution_count": null,
      "outputs": [
        {
          "output_type": "stream",
          "name": "stdout",
          "text": [
            "SVM score: 0.9326568265682657\n",
            "SVM f1-score: 0.9324085952465931\n"
          ]
        }
      ]
    },
    {
      "cell_type": "markdown",
      "source": [
        "### 4. Random Forest Classifier"
      ],
      "metadata": {
        "id": "M0bUJZsK0iy5"
      }
    },
    {
      "cell_type": "code",
      "source": [
        "from sklearn.ensemble import RandomForestClassifier\n",
        "\n",
        "rf_model = RandomForestClassifier()\n",
        "rf_model.fit(X_train, y_train)\n",
        "print(\"Random Forest score:\", rf_model.score(X_train, y_train))\n",
        "print(\"Random Forest f1-score:\", f1_score(y_train, rf_model.predict(X_train), average='macro'))"
      ],
      "metadata": {
        "colab": {
          "base_uri": "https://localhost:8080/"
        },
        "outputId": "bf57419d-6e77-4ce6-bbe6-f897962ad245",
        "id": "ZRLRkXFv0iy6"
      },
      "execution_count": null,
      "outputs": [
        {
          "output_type": "stream",
          "name": "stdout",
          "text": [
            "Random Forest score: 1.0\n",
            "Random Forest f1-score: 1.0\n"
          ]
        }
      ]
    },
    {
      "cell_type": "code",
      "source": [
        "print(\"Random Forest score:\", rf_model.score(X_validation, y_validation))\n",
        "print(\"Random Forest f1-score:\", f1_score(y_validation, rf_model.predict(X_validation), average='macro'))"
      ],
      "metadata": {
        "colab": {
          "base_uri": "https://localhost:8080/"
        },
        "id": "cKOIN-t318hE",
        "outputId": "5d8d692b-89dd-4070-8b7f-48515c6fe285"
      },
      "execution_count": null,
      "outputs": [
        {
          "output_type": "stream",
          "name": "stdout",
          "text": [
            "Random Forest score: 0.9345018450184502\n",
            "Random Forest f1-score: 0.9406162456009609\n"
          ]
        }
      ]
    },
    {
      "cell_type": "markdown",
      "source": [
        "### 5. Gradient Boost Classifier"
      ],
      "metadata": {
        "id": "4chkfL2u1BiM"
      }
    },
    {
      "cell_type": "code",
      "source": [
        "from sklearn.ensemble import GradientBoostingClassifier\n",
        "\n",
        "gb_model = GradientBoostingClassifier()\n",
        "gb_model.fit(X_train, y_train)\n",
        "print(\"Gradient Boost score:\", gb_model.score(X_train, y_train))\n",
        "print(\"Gradient Boost f1-score:\", f1_score(y_train, gb_model.predict(X_train), average='macro'))"
      ],
      "metadata": {
        "colab": {
          "base_uri": "https://localhost:8080/"
        },
        "outputId": "a010f416-2041-4798-9b52-fbf9e9cadf2e",
        "id": "XFcMetgf1BiV"
      },
      "execution_count": null,
      "outputs": [
        {
          "output_type": "stream",
          "name": "stdout",
          "text": [
            "Gradient Boost score: 0.9632820512820512\n",
            "Gradient Boost f1-score: 0.9720265177348011\n"
          ]
        }
      ]
    },
    {
      "cell_type": "code",
      "source": [
        "print(\"Gradient Boost score:\", gb_model.score(X_validation, y_validation))\n",
        "print(\"Gradient Boost f1-score:\", f1_score(y_validation, gb_model.predict(X_validation), average='weighted'))"
      ],
      "metadata": {
        "colab": {
          "base_uri": "https://localhost:8080/"
        },
        "id": "2pWXeVgh1n-d",
        "outputId": "f0bd8d4f-a754-4ecb-8a8c-fe6767d0e26d"
      },
      "execution_count": null,
      "outputs": [
        {
          "output_type": "stream",
          "name": "stdout",
          "text": [
            "Gradient Boost score: 0.9298892988929889\n",
            "Gradient Boost f1-score: 0.9295563548452933\n"
          ]
        }
      ]
    },
    {
      "cell_type": "markdown",
      "source": [
        "### 6. AdaBoost Classifier"
      ],
      "metadata": {
        "id": "hYaIV4NAupUs"
      }
    },
    {
      "cell_type": "code",
      "source": [
        "from sklearn.ensemble import AdaBoostClassifier\n",
        "\n",
        "ab_model = AdaBoostClassifier()\n",
        "ab_model.fit(X_train, y_train)\n",
        "print(\"AdaBoost Classifier score:\", ab_model.score(X_train, y_train))\n",
        "print(\"AdaBoost Classifier f1-score:\", f1_score(y_train, ab_model.predict(X_train), average='macro'))"
      ],
      "metadata": {
        "colab": {
          "base_uri": "https://localhost:8080/"
        },
        "id": "0ICgM1PyuvfT",
        "outputId": "636f5266-e4df-4c46-8fff-5814353c9b4b"
      },
      "execution_count": null,
      "outputs": [
        {
          "output_type": "stream",
          "name": "stdout",
          "text": [
            "AdaBoost Classifier score: 0.6847179487179487\n",
            "AdaBoost Classifier f1-score: 0.6291470219904123\n"
          ]
        }
      ]
    },
    {
      "cell_type": "code",
      "source": [
        "print(\"AdaBoost Classifier score:\", ab_model.score(X_validation, y_validation))\n",
        "print(\"AdaBoost Classifier f1-score:\", f1_score(y_validation, ab_model.predict(X_validation), average='macro'))"
      ],
      "metadata": {
        "colab": {
          "base_uri": "https://localhost:8080/"
        },
        "id": "-sbNJG-hyVDX",
        "outputId": "d0f9ac04-0884-45bb-d0db-1f3e820061e1"
      },
      "execution_count": null,
      "outputs": [
        {
          "output_type": "stream",
          "name": "stdout",
          "text": [
            "AdaBoost Classifier score: 0.690959409594096\n",
            "AdaBoost Classifier f1-score: 0.6259262196355883\n"
          ]
        }
      ]
    },
    {
      "cell_type": "markdown",
      "source": [
        "### 7. SVM Classifier"
      ],
      "metadata": {
        "id": "5Y_8ie6zcrLX"
      }
    },
    {
      "cell_type": "code",
      "source": [
        "from sklearn.decomposition import PCA\n",
        "from sklearn.svm import SVC"
      ],
      "metadata": {
        "id": "nAtgANfs-jbI"
      },
      "execution_count": 41,
      "outputs": []
    },
    {
      "cell_type": "code",
      "source": [
        "pca = PCA()\n",
        "robust = RobustScaler()\n",
        "\n",
        "svm_model = SVC()\n",
        "\n",
        "pipe = Pipeline(steps=[(\"robust\", robust), (\"pca\", pca), (\"svm\", svm_model)])\n",
        "\n",
        "svm_parameters = {'kernel': ['rbf'],\n",
        "                  'C': [0.01, 0.1, 1 , 10, 100],\n",
        "                  'gamma': [0.01, 0.1, 1, 10, 100]\n",
        "}\n",
        "\n",
        "param_grid = {\n",
        "    \"pca__n_components\": [6, 8, 10, 12, 14, 16],\n",
        "    \"svm__C\": [0.01, 0.1, 1 , 10, 100],\n",
        "    \"svm__kernel\": ['rbf'],\n",
        "    \"svm__gamma\": [0.01, 0.1, 1, 10, 100]\n",
        "}\n",
        "\n",
        "svm_gs = GridSearchCV(pipe, param_grid = param_grid, n_jobs=2)\n",
        "\n",
        "svm_gs.fit(X, y)\n",
        "print(\"Best parameter (CV score=%0.3f):\" % svm_gs.best_score_)\n",
        "print(svm_gs.best_params_)\n",
        "\n",
        "pca.fit(X)\n"
      ],
      "metadata": {
        "id": "Qs-M5W5w3WDp",
        "outputId": "e5145021-26f8-4743-bafe-9d98c8659c71",
        "colab": {
          "base_uri": "https://localhost:8080/",
          "height": 426
        }
      },
      "execution_count": 43,
      "outputs": [
        {
          "output_type": "stream",
          "name": "stdout",
          "text": [
            "Best parameter (CV score=0.931):\n",
            "{'pca__n_components': 14, 'svm__C': 10, 'svm__gamma': 0.1, 'svm__kernel': 'rbf'}\n"
          ]
        },
        {
          "output_type": "execute_result",
          "data": {
            "text/plain": [
              "<matplotlib.lines.Line2D at 0x7fbf6ae18ed0>"
            ]
          },
          "metadata": {},
          "execution_count": 43
        },
        {
          "output_type": "display_data",
          "data": {
            "text/plain": [
              "<Figure size 432x432 with 2 Axes>"
            ],
            "image/png": "[encoded data removed]"
          },
          "metadata": {}
        }
      ]
    },
    {
      "cell_type": "code",
      "source": [
        "test_data"
      ],
      "metadata": {
        "id": "dzgGf-t0Sd5z"
      },
      "execution_count": null,
      "outputs": []
    },
    {
      "cell_type": "code",
      "source": [
        "y_test = pd.read_csv(\"https://raw.githubusercontent.com/lauren-safwat/Dry-Beans-Classification/main/dataset/test_labelled.csv?token=GHSAT0AAAAAABT3JWLQODZJUHLXVF4335ISYUC47HA\", index_col=\"ID\")"
      ],
      "metadata": {
        "id": "3IjTUi7vUYdH"
      },
      "execution_count": 54,
      "outputs": []
    },
    {
      "cell_type": "code",
      "source": [
        "y_test.y = label_encoder.transform(y_test.y)\n",
        "y_test"
      ],
      "metadata": {
        "id": "KWCpKVJEVSpF"
      },
      "execution_count": null,
      "outputs": []
    },
    {
      "cell_type": "code",
      "source": [
        "y_test.head(20)"
      ],
      "metadata": {
        "id": "qLYqGX2_WkA0"
      },
      "execution_count": null,
      "outputs": []
    },
    {
      "cell_type": "code",
      "source": [
        "svm_gs.score(test_data, y_test)"
      ],
      "metadata": {
        "id": "UTWXHxq7Rw-n",
        "outputId": "e66ae1ab-ddde-431e-a6b2-0011d9709999",
        "colab": {
          "base_uri": "https://localhost:8080/"
        }
      },
      "execution_count": 59,
      "outputs": [
        {
          "output_type": "execute_result",
          "data": {
            "text/plain": [
              "0.9582871908453304"
            ]
          },
          "metadata": {},
          "execution_count": 59
        }
      ]
    }
  ],
  "metadata": {
    "interpreter": {
      "hash": "8aec32d155930cf0381c88650aabd05d0c63319be8b0b9ae7caf1e75ecc5e461"
    },
    "kernelspec": {
      "display_name": "Python 3.9.6 64-bit",
      "language": "python",
      "name": "python3"
    },
    "language_info": {
      "codemirror_mode": {
        "name": "ipython",
        "version": 3
      },
      "file_extension": ".py",
      "mimetype": "text/x-python",
      "name": "python",
      "nbconvert_exporter": "python",
      "pygments_lexer": "ipython3",
      "version": "3.9.6"
    },
    "orig_nbformat": 4,
    "colab": {
      "name": "Dry Beans Classification.ipynb",
      "provenance": [],
      "collapsed_sections": [],
      "include_colab_link": true
    }
  },
  "nbformat": 4,
  "nbformat_minor": 0
}